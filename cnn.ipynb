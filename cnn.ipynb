{
 "cells": [
  {
   "cell_type": "code",
   "execution_count": 10,
   "metadata": {},
   "outputs": [
    {
     "ename": "ImportError",
     "evalue": "cannot import name 'OpenPose' from 'openpose' (unknown location)",
     "output_type": "error",
     "traceback": [
      "\u001b[1;31m---------------------------------------------------------------------------\u001b[0m",
      "\u001b[1;31mImportError\u001b[0m                               Traceback (most recent call last)",
      "\u001b[1;32mc:\\Users\\leo_b\\OneDrive\\Ambiente de Trabalho\\IST\\1ano\\2S\\PMBA\\tp\\Multimedia_Processing_AI\\cnn.ipynb Cell 1\u001b[0m in \u001b[0;36m<cell line: 2>\u001b[1;34m()\u001b[0m\n\u001b[0;32m      <a href='vscode-notebook-cell:/c%3A/Users/leo_b/OneDrive/Ambiente%20de%20Trabalho/IST/1ano/2S/PMBA/tp/Multimedia_Processing_AI/cnn.ipynb#W0sZmlsZQ%3D%3D?line=0'>1</a>\u001b[0m \u001b[39mimport\u001b[39;00m \u001b[39mtensorflow\u001b[39;00m \u001b[39mas\u001b[39;00m \u001b[39mtf\u001b[39;00m\n\u001b[1;32m----> <a href='vscode-notebook-cell:/c%3A/Users/leo_b/OneDrive/Ambiente%20de%20Trabalho/IST/1ano/2S/PMBA/tp/Multimedia_Processing_AI/cnn.ipynb#W0sZmlsZQ%3D%3D?line=1'>2</a>\u001b[0m \u001b[39mfrom\u001b[39;00m \u001b[39mopenpose\u001b[39;00m \u001b[39mimport\u001b[39;00m OpenPose\n",
      "\u001b[1;31mImportError\u001b[0m: cannot import name 'OpenPose' from 'openpose' (unknown location)"
     ]
    }
   ],
   "source": [
    "import tensorflow as tf\n",
    "from openpose import OpenPose"
   ]
  },
  {
   "cell_type": "code",
   "execution_count": null,
   "metadata": {},
   "outputs": [],
   "source": []
  },
  {
   "cell_type": "code",
   "execution_count": null,
   "metadata": {},
   "outputs": [],
   "source": [
    "\n",
    "\n",
    "# Step 1: Data Preparation\n",
    "# Load and preprocess your push-up dataset with annotations\n",
    "\n",
    "# Step 2: Model Modification\n",
    "# Load the pre-trained OpenPose model\n",
    "openpose_model = create_openpose_model()\n",
    "# Modify the model architecture for push-up form classification\n",
    "# Add a classification layer with 2 outputs: correct or not correct\n",
    "num_classes = 2\n",
    "classification_layer = tf.keras.layers.Dense(num_classes, activation='softmax')\n",
    "model = tf.keras.models.Model(inputs=openpose_model.input, outputs=classification_layer(openpose_model.output))\n",
    "\n",
    "# Step 3: Training\n",
    "# Compile the model\n",
    "model.compile(optimizer='adam', loss='sparse_categorical_crossentropy', metrics=['accuracy'])\n",
    "\n",
    "# Training loop\n",
    "epochs = 10\n",
    "batch_size = 32\n",
    "\n",
    "model.fit(training_images, training_labels, epochs=epochs, batch_size=batch_size)\n",
    "\n",
    "# Step 4: Evaluation\n",
    "# Evaluate the fine-tuned model on the test dataset\n",
    "test_loss, test_accuracy = model.evaluate(test_images, test_labels)\n",
    "print(f\"Test Loss: {test_loss:.4f}\")\n",
    "print(f\"Test Accuracy: {test_accuracy:.4f}\")\n",
    "\n",
    "# Step 5: Feedback System\n",
    "# Perform real-time inference on input frames\n",
    "# Apply OpenPose to detect joint keypoints\n",
    "# Analyze keypoints and determine push-up form\n",
    "# Provide feedback based on the model's classification output\n",
    "\n",
    "# Additional steps:\n",
    "# - Save the fine-tuned model for future use\n",
    "# - Visualize the keypoints and push-up form for analysis and debugging\n",
    "# - Iterate and refine the code based on your specific requirements and feedback\n",
    "\n"
   ]
  }
 ],
 "metadata": {
  "kernelspec": {
   "display_name": "base",
   "language": "python",
   "name": "python3"
  },
  "language_info": {
   "codemirror_mode": {
    "name": "ipython",
    "version": 3
   },
   "file_extension": ".py",
   "mimetype": "text/x-python",
   "name": "python",
   "nbconvert_exporter": "python",
   "pygments_lexer": "ipython3",
   "version": "3.9.12"
  },
  "orig_nbformat": 4
 },
 "nbformat": 4,
 "nbformat_minor": 2
}
