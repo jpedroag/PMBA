{
 "cells": [
  {
   "cell_type": "code",
   "execution_count": 1,
   "metadata": {},
   "outputs": [
    {
     "name": "stdout",
     "output_type": "stream",
     "text": [
      "2.0.1+cu117\n",
      "GPU is available\n"
     ]
    }
   ],
   "source": [
    "import torch\n",
    "print(torch.__version__)\n",
    "\n",
    "if torch.cuda.is_available():\n",
    "    print(\"GPU is available\")\n",
    "else:\n",
    "    print(\"GPU is not available\")\n",
    "\n",
    "torch.cuda.empty_cache()\n",
    "\n"
   ]
  },
  {
   "cell_type": "code",
   "execution_count": 42,
   "metadata": {},
   "outputs": [
    {
     "name": "stderr",
     "output_type": "stream",
     "text": [
      "c:\\Users\\leo_b\\anaconda3\\envs\\pmba_new\\lib\\site-packages\\torchvision\\models\\_utils.py:208: UserWarning: The parameter 'pretrained' is deprecated since 0.13 and may be removed in the future, please use 'weights' instead.\n",
      "  warnings.warn(\n",
      "c:\\Users\\leo_b\\anaconda3\\envs\\pmba_new\\lib\\site-packages\\torchvision\\models\\_utils.py:223: UserWarning: Arguments other than a weight enum or `None` for 'weights' are deprecated since 0.13 and may be removed in the future. The current behavior is equivalent to passing `weights=ResNet152_Weights.IMAGENET1K_V1`. You can also use `weights=ResNet152_Weights.DEFAULT` to get the most up-to-date weights.\n",
      "  warnings.warn(msg)\n",
      "Downloading: \"https://download.pytorch.org/models/resnet152-394f9c45.pth\" to C:\\Users\\leo_b/.cache\\torch\\hub\\checkpoints\\resnet152-394f9c45.pth\n",
      "100.0%\n"
     ]
    },
    {
     "name": "stdout",
     "output_type": "stream",
     "text": [
      "Epoch [1/20], Loss: 0.7282\n",
      "Epoch [2/20], Loss: 0.7530\n",
      "Epoch [3/20], Loss: 0.6386\n",
      "Epoch [4/20], Loss: 0.6226\n",
      "Epoch [5/20], Loss: 0.5777\n",
      "Epoch [6/20], Loss: 0.5466\n",
      "Epoch [7/20], Loss: 0.5142\n",
      "Epoch [8/20], Loss: 0.5289\n",
      "Epoch [9/20], Loss: 0.5116\n",
      "Epoch [10/20], Loss: 0.5368\n",
      "Epoch [11/20], Loss: 0.4573\n",
      "Epoch [12/20], Loss: 0.4341\n",
      "Epoch [13/20], Loss: 0.3988\n",
      "Epoch [14/20], Loss: 0.4004\n",
      "Epoch [15/20], Loss: 0.4259\n",
      "Epoch [16/20], Loss: 0.3921\n",
      "Epoch [17/20], Loss: 0.4048\n",
      "Epoch [18/20], Loss: 0.4260\n",
      "Epoch [19/20], Loss: 0.4126\n",
      "Epoch [20/20], Loss: 0.4539\n"
     ]
    }
   ],
   "source": [
    "import torch\n",
    "import torch.optim as optim\n",
    "from torchvision import datasets, models, transforms\n",
    "\n",
    "# Load the pre-trained model (e.g., ResNet)\n",
    "model = models.resnet152(pretrained=True)\n",
    "\n",
    "# Freeze all the layers in the model\n",
    "for param in model.parameters():\n",
    "    param.requires_grad = False\n",
    "\n",
    "# Replace the final layer of the model to match the number of classes in the new dataset\n",
    "num_ftrs = model.fc.in_features\n",
    "model.fc = torch.nn.Linear(num_ftrs, 2)  # num_classes should be the number of classes in your new dataset\n",
    "\n",
    "# Define loss function and optimizer\n",
    "criterion = torch.nn.CrossEntropyLoss()\n",
    "optimizer = optim.SGD(model.fc.parameters(), lr=0.001, momentum=0.9)\n",
    "\n",
    "train_dir = \"images\"  # replace train_dir with the path to your data\n",
    "# Define the data augmentation and normalization for training\n",
    "# Add more transforms for data augmentation\n",
    "train_transforms = transforms.Compose([\n",
    "    transforms.RandomResizedCrop(224),\n",
    "    transforms.RandomHorizontalFlip(),\n",
    "    transforms.ToTensor(),\n",
    "    transforms.Normalize([0.485, 0.456, 0.406], [0.229, 0.224, 0.225])  # Normalization coefficients for ImageNet\n",
    "])\n",
    "\n",
    "train_data = datasets.ImageFolder(train_dir, transform=train_transforms)\n",
    "train_loader = torch.utils.data.DataLoader(train_data, batch_size=64, shuffle=True)  # reduce batch_size\n",
    "\n",
    "\n",
    "# Training the model\n",
    "num_epochs = 20\n",
    "train_loss_history = []\n",
    "for epoch in range(num_epochs):  # num_epochs should be the number of epochs you want to train for\n",
    "    running_loss = 0.0\n",
    "    for inputs, labels in train_loader:\n",
    "        optimizer.zero_grad()\n",
    "        outputs = model(inputs)\n",
    "        loss = criterion(outputs, labels)\n",
    "        loss.backward()\n",
    "        optimizer.step()\n",
    "        running_loss += loss.item()\n",
    "    print('Epoch [%d/%d], Loss: %.4f' % (epoch+1, num_epochs, running_loss/len(train_loader)))\n",
    "\n",
    "\n"
   ]
  },
  {
   "cell_type": "code",
   "execution_count": 62,
   "metadata": {},
   "outputs": [],
   "source": [
    "# Save the state of the model\n",
    "torch.save(model.state_dict(), 'models/resnet152_aug.pth')\n",
    "\n",
    "# Load the state of the model\n",
    "#model.load_state_dict(torch.load('model_weights.pth'))"
   ]
  },
  {
   "cell_type": "code",
   "execution_count": 63,
   "metadata": {},
   "outputs": [
    {
     "name": "stdout",
     "output_type": "stream",
     "text": [
      "Test Accuracy: 75.00 %\n",
      "Class predictions: [0, 0, 0, 1, 0, 1, 0, 0]\n",
      "Class predictions: ['correct_seq', 'correct_seq', 'correct_seq', 'wrong_seq', 'correct_seq', 'wrong_seq', 'correct_seq', 'correct_seq']\n",
      "Ground-truth labels: ['correct_seq', 'correct_seq', 'correct_seq', 'correct_seq', 'wrong_seq', 'wrong_seq', 'wrong_seq', 'wrong_seq']\n"
     ]
    }
   ],
   "source": [
    "from torchvision import transforms\n",
    "\n",
    "# Define the transform\n",
    "transform = transforms.Compose([\n",
    "    transforms.Resize((224, 224)),  # Resize all images to the same size\n",
    "    transforms.ToTensor(),  # Convert images to PyTorch tensors\n",
    "])\n",
    "\n",
    "# Load the testing data\n",
    "test_dir = \"test_dataset\"  # replace test_dir with the path to your testing data\n",
    "test_data = datasets.ImageFolder(test_dir, transform=transform)  # apply the defined transform\n",
    "\n",
    "\n",
    "test_loader = torch.utils.data.DataLoader(test_data, batch_size=64, shuffle=True)\n",
    "\n",
    "# Switch the model to evaluation mode\n",
    "model.eval()\n",
    "\n",
    "# Create a list to store predictions\n",
    "predictions = []\n",
    "\n",
    "# Test the model\n",
    "correct = 0\n",
    "total = 0\n",
    "with torch.no_grad():\n",
    "    for inputs, labels in test_loader:\n",
    "\n",
    "        outputs = model(inputs)\n",
    "        _, predicted = torch.max(outputs.data, 1)\n",
    "        total += labels.size(0)\n",
    "        correct += (predicted == labels).sum().item()\n",
    "\n",
    "        # Append the predictions to the list\n",
    "        predictions.extend(predicted.tolist())\n",
    "\n",
    "# Calculate and print the accuracy\n",
    "accuracy = float(correct / total)\n",
    "print('Test Accuracy: %.2f %%' % (100 * accuracy))\n",
    "\n",
    "# Print the class predictions\n",
    "print('Class predictions:', predictions)\n",
    "\n",
    "# Create a reverse mapping from index to class name\n",
    "idx_to_class = {v: k for k, v in test_data.class_to_idx.items()}\n",
    "\n",
    "# Transform the predictions list\n",
    "class_predictions = [idx_to_class.get(idx, 'Unknown') for idx in predictions]\n",
    "\n",
    "# Print the class predictions\n",
    "print('Class predictions:', class_predictions)\n",
    "# Print the ground-truth labels for each image testing data\n",
    "print('Ground-truth labels:', [idx_to_class.get(idx) for idx in test_data.targets])"
   ]
  }
 ],
 "metadata": {
  "kernelspec": {
   "display_name": "base",
   "language": "python",
   "name": "python3"
  },
  "language_info": {
   "codemirror_mode": {
    "name": "ipython",
    "version": 3
   },
   "file_extension": ".py",
   "mimetype": "text/x-python",
   "name": "python",
   "nbconvert_exporter": "python",
   "pygments_lexer": "ipython3",
   "version": "3.8.16"
  },
  "orig_nbformat": 4
 },
 "nbformat": 4,
 "nbformat_minor": 2
}
