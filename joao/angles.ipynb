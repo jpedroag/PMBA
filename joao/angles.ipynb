{
  "cells": [
    {
      "cell_type": "code",
      "execution_count": 7,
      "metadata": {},
      "outputs": [
        {
          "name": "stdout",
          "output_type": "stream",
          "text": [
            "0.7381898760795593 0.34363633394241333 -0.001997187500819564\n"
          ]
        }
      ],
      "source": [
        "import numpy as np\n",
        "import matplotlib.pyplot as plt\n",
        "\n",
        "import mediapipe as mp\n",
        "from mediapipe.tasks import python\n",
        "from mediapipe.tasks.python import vision\n",
        "from mediapipe import solutions\n",
        "from mediapipe.framework.formats import landmark_pb2\n",
        "\n",
        "model_path = 'E:\\Ambiente de Trabalho\\PMBA\\project\\pose_landmarker_full.task'\n",
        "\n",
        "BaseOptions = mp.tasks.BaseOptions\n",
        "PoseLandmarker = mp.tasks.vision.PoseLandmarker\n",
        "PoseLandmarkerOptions = mp.tasks.vision.PoseLandmarkerOptions\n",
        "VisionRunningMode = mp.tasks.vision.RunningMode\n",
        "\n",
        "options = PoseLandmarkerOptions(\n",
        "    base_options=BaseOptions(model_asset_path=model_path),\n",
        "    running_mode=VisionRunningMode.IMAGE)\n",
        "\n",
        "with PoseLandmarker.create_from_options(options) as landmarker:\n",
        "    # Load the input image from an image file.\n",
        "    image = mp.Image.create_from_file('pushup1.jpg')\n",
        "\n",
        "    # Perform pose landmarking on the provided single image.\n",
        "    # The pose landmarker must be created with the image mode.\n",
        "    pose_landmarker_result = landmarker.detect(image)\n",
        "\n",
        "    pose_landmarks_list = pose_landmarker_result.pose_landmarks\n",
        "\n",
        "    # Loop through the detected poses to visualize.\n",
        "    for idx in range(len(pose_landmarks_list)):\n",
        "        pose_landmarks = pose_landmarks_list[idx]\n",
        "\n",
        "        # Draw the pose landmarks.\n",
        "        pose_landmarks_proto = landmark_pb2.NormalizedLandmarkList()\n",
        "        pose_landmarks_proto.landmark.extend([\n",
        "            landmark_pb2.NormalizedLandmark(x=landmark.x, y=landmark.y, z=landmark.z) for landmark in pose_landmarks\n",
        "        ])\n",
        "    \n",
        "    #annotated_image = draw_landmarks_on_image(image.numpy_view(), pose_landmarker_result)\n",
        "    #plt.imshow(annotated_image)\n",
        "\n",
        "    #print(pose_landmarks_proto)\n",
        "    #print(pose_landmarks_list[0][1])\n",
        "\n",
        "    pose_landmark = pose_landmarks_list[0][2]  # Assuming you want to extract the coordinates from the first landmark\n",
        "\n",
        "    x = float(pose_landmark.x)\n",
        "    y = float(pose_landmark.y)\n",
        "    z = float(pose_landmark.z)\n",
        "\n",
        "    print(x, y, z)\n",
        "\n",
        "\n",
        "\n",
        "\n"
      ]
    },
    {
      "cell_type": "code",
      "execution_count": 14,
      "metadata": {},
      "outputs": [
        {
          "ename": "NameError",
          "evalue": "name 'draw_landmarks_on_image' is not defined",
          "output_type": "error",
          "traceback": [
            "\u001b[1;31m---------------------------------------------------------------------------\u001b[0m",
            "\u001b[1;31mNameError\u001b[0m                                 Traceback (most recent call last)",
            "Cell \u001b[1;32mIn[14], line 24\u001b[0m\n\u001b[0;32m     21\u001b[0m detection_result \u001b[39m=\u001b[39m detector\u001b[39m.\u001b[39mdetect(image)\n\u001b[0;32m     23\u001b[0m \u001b[39m# STEP 5: Process the detection result. In this case, visualize it.\u001b[39;00m\n\u001b[1;32m---> 24\u001b[0m annotated_image \u001b[39m=\u001b[39m draw_landmarks_on_image(image\u001b[39m.\u001b[39mnumpy_view(), detection_result)\n\u001b[0;32m     26\u001b[0m plt\u001b[39m.\u001b[39mimshow(annotated_image)\n",
            "\u001b[1;31mNameError\u001b[0m: name 'draw_landmarks_on_image' is not defined"
          ]
        }
      ],
      "source": [
        "import numpy as np\n",
        "import matplotlib.pyplot as plt\n",
        "\n",
        "import mediapipe as mp\n",
        "from mediapipe.tasks import python\n",
        "from mediapipe.tasks.python import vision\n",
        "\n",
        "model_path = 'E:\\Ambiente de Trabalho\\PMBA\\project\\pose_landmarker_full.task'\n",
        "\n",
        "# STEP 2: Create an PoseLandmarker object.\n",
        "base_options = python.BaseOptions(model_asset_path=model_path)\n",
        "options = vision.PoseLandmarkerOptions(\n",
        "    base_options=base_options,\n",
        "    output_segmentation_masks=True)\n",
        "detector = vision.PoseLandmarker.create_from_options(options)\n",
        "\n",
        "# STEP 3: Load the input image.\n",
        "image = mp.Image.create_from_file(\"pushup1.jpg\")\n",
        "\n",
        "# STEP 4: Detect pose landmarks from the input image.\n",
        "detection_result = detector.detect(image)\n",
        "\n",
        "# STEP 5: Process the detection result. In this case, visualize it.\n",
        "annotated_image = draw_landmarks_on_image(image.numpy_view(), detection_result)\n",
        "\n",
        "plt.imshow(annotated_image)"
      ]
    }
  ],
  "metadata": {
    "colab": {
      "provenance": []
    },
    "kernelspec": {
      "display_name": "Python 3 (ipykernel)",
      "language": "python",
      "name": "python3"
    },
    "language_info": {
      "codemirror_mode": {
        "name": "ipython",
        "version": 3
      },
      "file_extension": ".py",
      "mimetype": "text/x-python",
      "name": "python",
      "nbconvert_exporter": "python",
      "pygments_lexer": "ipython3",
      "version": "3.9.16"
    }
  },
  "nbformat": 4,
  "nbformat_minor": 0
}
